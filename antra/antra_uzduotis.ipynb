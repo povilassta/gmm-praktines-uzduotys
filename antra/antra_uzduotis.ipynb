{
 "cells": [
  {
   "cell_type": "code",
   "execution_count": 1,
   "metadata": {},
   "outputs": [
    {
     "name": "stdout",
     "output_type": "stream",
     "text": [
      "Requirement already satisfied: openimages in c:\\users\\povil\\miniconda3\\envs\\pytorch\\lib\\site-packages (0.0.1)\n",
      "Requirement already satisfied: torchmetrics in c:\\users\\povil\\miniconda3\\envs\\pytorch\\lib\\site-packages (0.11.1)\n",
      "Requirement already satisfied: tabulate in c:\\users\\povil\\miniconda3\\envs\\pytorch\\lib\\site-packages (0.9.0)\n",
      "Requirement already satisfied: pandas in c:\\users\\povil\\miniconda3\\envs\\pytorch\\lib\\site-packages (from openimages) (1.5.3)\n",
      "Requirement already satisfied: tqdm in c:\\users\\povil\\miniconda3\\envs\\pytorch\\lib\\site-packages (from openimages) (4.64.1)\n",
      "Requirement already satisfied: requests in c:\\users\\povil\\miniconda3\\envs\\pytorch\\lib\\site-packages (from openimages) (2.28.2)\n",
      "Requirement already satisfied: boto3 in c:\\users\\povil\\miniconda3\\envs\\pytorch\\lib\\site-packages (from openimages) (1.26.79)\n",
      "Requirement already satisfied: cvdata in c:\\users\\povil\\miniconda3\\envs\\pytorch\\lib\\site-packages (from openimages) (0.0.3)\n",
      "Requirement already satisfied: lxml in c:\\users\\povil\\miniconda3\\envs\\pytorch\\lib\\site-packages (from openimages) (4.9.2)\n",
      "Requirement already satisfied: packaging in c:\\users\\povil\\miniconda3\\envs\\pytorch\\lib\\site-packages (from torchmetrics) (23.0)\n",
      "Requirement already satisfied: numpy>=1.17.2 in c:\\users\\povil\\miniconda3\\envs\\pytorch\\lib\\site-packages (from torchmetrics) (1.24.2)\n",
      "Requirement already satisfied: torch>=1.8.1 in c:\\users\\povil\\miniconda3\\envs\\pytorch\\lib\\site-packages (from torchmetrics) (1.13.1)\n",
      "Requirement already satisfied: typing_extensions in c:\\users\\povil\\miniconda3\\envs\\pytorch\\lib\\site-packages (from torch>=1.8.1->torchmetrics) (4.4.0)\n",
      "Requirement already satisfied: botocore<1.30.0,>=1.29.79 in c:\\users\\povil\\miniconda3\\envs\\pytorch\\lib\\site-packages (from boto3->openimages) (1.29.79)\n",
      "Requirement already satisfied: s3transfer<0.7.0,>=0.6.0 in c:\\users\\povil\\miniconda3\\envs\\pytorch\\lib\\site-packages (from boto3->openimages) (0.6.0)\n",
      "Requirement already satisfied: jmespath<2.0.0,>=0.7.1 in c:\\users\\povil\\miniconda3\\envs\\pytorch\\lib\\site-packages (from boto3->openimages) (1.0.1)\n",
      "Requirement already satisfied: opencv-python in c:\\users\\povil\\miniconda3\\envs\\pytorch\\lib\\site-packages (from cvdata->openimages) (4.7.0.72)\n",
      "Requirement already satisfied: pillow in c:\\users\\povil\\miniconda3\\envs\\pytorch\\lib\\site-packages (from cvdata->openimages) (9.4.0)\n",
      "Requirement already satisfied: python-dateutil>=2.8.1 in c:\\users\\povil\\miniconda3\\envs\\pytorch\\lib\\site-packages (from pandas->openimages) (2.8.2)\n",
      "Requirement already satisfied: pytz>=2020.1 in c:\\users\\povil\\miniconda3\\envs\\pytorch\\lib\\site-packages (from pandas->openimages) (2022.7.1)\n",
      "Requirement already satisfied: certifi>=2017.4.17 in c:\\users\\povil\\miniconda3\\envs\\pytorch\\lib\\site-packages (from requests->openimages) (2022.12.7)\n",
      "Requirement already satisfied: charset-normalizer<4,>=2 in c:\\users\\povil\\miniconda3\\envs\\pytorch\\lib\\site-packages (from requests->openimages) (2.1.1)\n",
      "Requirement already satisfied: idna<4,>=2.5 in c:\\users\\povil\\miniconda3\\envs\\pytorch\\lib\\site-packages (from requests->openimages) (3.4)\n",
      "Requirement already satisfied: urllib3<1.27,>=1.21.1 in c:\\users\\povil\\miniconda3\\envs\\pytorch\\lib\\site-packages (from requests->openimages) (1.26.14)\n",
      "Requirement already satisfied: colorama in c:\\users\\povil\\miniconda3\\envs\\pytorch\\lib\\site-packages (from tqdm->openimages) (0.4.6)\n",
      "Requirement already satisfied: six>=1.5 in c:\\users\\povil\\miniconda3\\envs\\pytorch\\lib\\site-packages (from python-dateutil>=2.8.1->pandas->openimages) (1.16.0)\n",
      "Note: you may need to restart the kernel to use updated packages.\n"
     ]
    }
   ],
   "source": [
    "pip install openimages torchmetrics tabulate"
   ]
  },
  {
   "cell_type": "code",
   "execution_count": 1,
   "metadata": {},
   "outputs": [
    {
     "name": "stderr",
     "output_type": "stream",
     "text": [
      "c:\\Users\\povil\\miniconda3\\envs\\pytorch\\lib\\site-packages\\tqdm\\auto.py:22: TqdmWarning: IProgress not found. Please update jupyter and ipywidgets. See https://ipywidgets.readthedocs.io/en/stable/user_install.html\n",
      "  from .autonotebook import tqdm as notebook_tqdm\n"
     ]
    },
    {
     "name": "stdout",
     "output_type": "stream",
     "text": [
      "cuda\n"
     ]
    }
   ],
   "source": [
    "import torch\n",
    "import torch.nn as nn\n",
    "import torchmetrics\n",
    "import torchvision.transforms as transforms\n",
    "from PIL import Image\n",
    "import os\n",
    "from openimages.download import download_dataset\n",
    "from torch.utils.data import Dataset, random_split, DataLoader\n",
    "from glob import glob\n",
    "import numpy as np\n",
    "from tabulate import tabulate\n",
    "\n",
    "batch_size = 25\n",
    "num_classes = 3\n",
    "learning_rate = 0.001\n",
    "num_epochs = 10\n",
    "\n",
    "device = torch.device('cuda' if torch.cuda.is_available() else 'cpu')\n",
    "print(device)"
   ]
  },
  {
   "cell_type": "code",
   "execution_count": 2,
   "metadata": {},
   "outputs": [
    {
     "name": "stdout",
     "output_type": "stream",
     "text": [
      "Downloading is starting...\n"
     ]
    }
   ],
   "source": [
    "all_transforms = transforms.Compose([transforms.Resize((227,227)),\n",
    "                                     transforms.ToTensor(),\n",
    "                                     transforms.Normalize(mean=[0.485, 0.456, 0.406],\n",
    "                                                          std=[0.485, 0.456, 0.406])\n",
    "                                     ])\n",
    "\n",
    "data_dir = \"data\"\n",
    "\n",
    "classes = [\"Person\", \"Food\", \"Animal\"]\n",
    "\n",
    "if not os.path.exists(data_dir):\n",
    "  os.makedirs(data_dir)\n",
    "\n",
    "print(\"Downloading is starting...\")\n",
    "download_dataset(data_dir, classes, limit=5000)"
   ]
  },
  {
   "cell_type": "code",
   "execution_count": 3,
   "metadata": {},
   "outputs": [],
   "source": [
    "class CustomDataset(Dataset):\n",
    "  def __init__(self, images_dir, transform=None):\n",
    "    self.images_dir = images_dir\n",
    "    self.transform = transform\n",
    "\n",
    "    self.class1_files = glob(self.images_dir + \"/{}/images/*.jpg\".format(classes[0].lower()))\n",
    "    self.class2_files = glob(self.images_dir + \"/{}/images/*.jpg\".format(classes[1].lower()))\n",
    "    self.class3_files = glob(self.images_dir + \"/{}/images/*.jpg\".format(classes[2].lower()))\n",
    "\n",
    "    self.class1 = len(self.class1_files)\n",
    "    self.class2 = len(self.class2_files)\n",
    "\n",
    "    self.files = self.class1_files + self.class2_files + self.class3_files\n",
    "\n",
    "    self.labels = np.empty([len(self.files), 3])\n",
    "    self.labels[:] = [1, 0, 0]\n",
    "    self.labels[self.class1:] = [0, 1, 0]\n",
    "    self.labels[self.class1 + self.class2:] = [0, 0, 1]\n",
    "\n",
    "    self.order =  [x for x in np.random.permutation(len(self.labels))]\n",
    "    self.files = [self.files[x] for x in self.order]\n",
    "    self.labels = [self.labels[x] for x in self.order]\n",
    "\n",
    "  def __len__(self):\n",
    "    return (len(self.labels))\n",
    "\n",
    "  def __getitem__(self, i):\n",
    "    img_path = self.files[i]\n",
    "\n",
    "    img = Image.open(img_path).convert(\"RGB\")\n",
    "\n",
    "    if self.transform:\n",
    "      img = self.transform(img)\n",
    "            \n",
    "    y = self.labels[i]\n",
    "    return (img, y)"
   ]
  },
  {
   "cell_type": "code",
   "execution_count": 4,
   "metadata": {},
   "outputs": [],
   "source": [
    "class ConvNeuralNet(nn.Module):\n",
    "    def __init__(self, num_classes):\n",
    "        super(ConvNeuralNet, self).__init__()\n",
    "        self.layer1 = nn.Sequential(\n",
    "            nn.Conv2d(3, 96, kernel_size=11, stride=4, padding=0),\n",
    "            nn.BatchNorm2d(96),\n",
    "            nn.ReLU(),\n",
    "            nn.MaxPool2d(kernel_size = 3, stride = 2))\n",
    "        self.layer2 = nn.Sequential(\n",
    "            nn.Conv2d(96, 256, kernel_size=5, stride=1, padding=2),\n",
    "            nn.BatchNorm2d(256),\n",
    "            nn.ReLU(),\n",
    "            nn.MaxPool2d(kernel_size = 3, stride = 2))\n",
    "        self.layer3 = nn.Sequential(\n",
    "            nn.Conv2d(256, 384, kernel_size=3, stride=1, padding=1),\n",
    "            nn.BatchNorm2d(384),\n",
    "            nn.ReLU())\n",
    "        self.layer4 = nn.Sequential(\n",
    "            nn.Conv2d(384, 384, kernel_size=3, stride=1, padding=1),\n",
    "            nn.BatchNorm2d(384),\n",
    "            nn.ReLU())\n",
    "        self.layer5 = nn.Sequential(\n",
    "            nn.Conv2d(384, 256, kernel_size=3, stride=1, padding=1),\n",
    "            nn.BatchNorm2d(256),\n",
    "            nn.ReLU(),\n",
    "            nn.MaxPool2d(kernel_size = 3, stride = 2))\n",
    "        self.fc = nn.Sequential(\n",
    "            nn.Dropout(0.5),\n",
    "            nn.Linear(9216, 4096),\n",
    "            nn.ReLU())\n",
    "        self.fc1 = nn.Sequential(\n",
    "            nn.Dropout(0.5),\n",
    "            nn.Linear(4096, 4096),\n",
    "            nn.ReLU())\n",
    "        self.fc2= nn.Sequential(\n",
    "            nn.Linear(4096, num_classes))\n",
    "        \n",
    "    def forward(self, x):\n",
    "        out = self.layer1(x)\n",
    "        out = self.layer2(out)\n",
    "        out = self.layer3(out)\n",
    "        out = self.layer4(out)\n",
    "        out = self.layer5(out)\n",
    "        out = out.reshape(out.size(0), -1)\n",
    "        out = self.fc(out)\n",
    "        out = self.fc1(out)\n",
    "        out = self.fc2(out)\n",
    "        return out"
   ]
  },
  {
   "cell_type": "code",
   "execution_count": 5,
   "metadata": {},
   "outputs": [],
   "source": [
    "model = ConvNeuralNet(num_classes)\n",
    "model.to(device)\n",
    "\n",
    "full_dataset = CustomDataset(\"./data\", all_transforms)\n",
    "train_size = int(0.8 * len(full_dataset))\n",
    "test_size = len(full_dataset) - train_size\n",
    "train_dataset, test_dataset = random_split(full_dataset, [train_size, test_size])\n",
    "\n",
    "train_dataloader = DataLoader(train_dataset, batch_size)\n",
    "test_dataloader = DataLoader(test_dataset, batch_size)\n",
    "\n",
    "criterion = nn.BCELoss()\n",
    "optimizer = torch.optim.SGD(model.parameters(), lr=learning_rate, weight_decay = 0.005, momentum = 0.9) "
   ]
  },
  {
   "cell_type": "code",
   "execution_count": 6,
   "metadata": {},
   "outputs": [
    {
     "name": "stdout",
     "output_type": "stream",
     "text": [
      "Epoch [1/10] - Training Loss: 0.2615, Validation Loss: 0.4053\n",
      "Epoch [2/10] - Training Loss: 0.2650, Validation Loss: 0.3494\n",
      "Epoch [3/10] - Training Loss: 0.2748, Validation Loss: 0.2878\n",
      "Epoch [4/10] - Training Loss: 0.2468, Validation Loss: 0.2449\n",
      "Epoch [5/10] - Training Loss: 0.2275, Validation Loss: 0.2593\n",
      "Epoch [6/10] - Training Loss: 0.1365, Validation Loss: 0.2331\n",
      "Epoch [7/10] - Training Loss: 0.1718, Validation Loss: 0.2215\n",
      "Epoch [8/10] - Training Loss: 0.1729, Validation Loss: 0.2123\n",
      "Epoch [9/10] - Training Loss: 0.0718, Validation Loss: 0.2085\n",
      "Epoch [10/10] - Training Loss: 0.1003, Validation Loss: 0.1751\n"
     ]
    }
   ],
   "source": [
    "losses = []\n",
    "v_losses = []\n",
    "\n",
    "model.train(True)\n",
    "for epoch in range(num_epochs):\n",
    "    for _, (images, labels) in enumerate(train_dataloader):\n",
    "        images = images.to(device)\n",
    "        labels = labels.to(device)\n",
    "\n",
    "        optimizer.zero_grad()\n",
    "\n",
    "        outputs = model(images).sigmoid()\n",
    "        loss = criterion(outputs, labels.float())\n",
    "\n",
    "        loss.backward()\n",
    "        optimizer.step()\n",
    "        \n",
    "    losses.append(loss)\n",
    "\n",
    "    with torch.no_grad():\n",
    "        for _, (v_images, v_labels) in enumerate(test_dataloader):\n",
    "            v_images = v_images.to(device)\n",
    "            v_labels = v_labels.to(device)\n",
    "\n",
    "            v_outputs = model(v_images).sigmoid()\n",
    "            v_loss = criterion(v_outputs, v_labels.float())\n",
    "\n",
    "        v_losses.append(v_loss)\n",
    "\n",
    "    print('Epoch [{}/{}] - Training Loss: {:.4f}, Validation Loss: {:.4f}'.format(epoch+1, num_epochs, loss, v_loss))\n",
    "\n",
    "model.train(False)\n",
    "\n",
    "torch.save(model.state_dict(), \"checkpoint.pth\")"
   ]
  },
  {
   "cell_type": "code",
   "execution_count": 7,
   "metadata": {},
   "outputs": [
    {
     "data": {
      "image/png": "[encoded data removed]",
      "text/plain": [
       "<Figure size 640x480 with 1 Axes>"
      ]
     },
     "metadata": {},
     "output_type": "display_data"
    }
   ],
   "source": [
    "import matplotlib.pyplot as plt\n",
    "\n",
    "copy_losses = [x.cpu().item() for x in losses]\n",
    "copy_v_losses = [x.cpu().item() for x in v_losses]\n",
    "\n",
    "epoch_array = list(range(1,num_epochs+1))\n",
    "\n",
    "plt.plot(epoch_array, copy_losses, label = \"Training\")\n",
    "plt.plot(epoch_array, copy_v_losses, label = \"Validation\")\n",
    "plt.xlabel(\"Epochs\")\n",
    "plt.ylabel(\"Loss\")\n",
    "plt.legend(loc='upper right')\n",
    "\n",
    "plt.title(\"Loss\")\n",
    "\n",
    "plt.show()"
   ]
  },
  {
   "cell_type": "code",
   "execution_count": 8,
   "metadata": {},
   "outputs": [
    {
     "data": {
      "text/plain": [
       "<All keys matched successfully>"
      ]
     },
     "execution_count": 8,
     "metadata": {},
     "output_type": "execute_result"
    }
   ],
   "source": [
    "model.load_state_dict(torch.load('checkpoint.pth'))"
   ]
  },
  {
   "cell_type": "code",
   "execution_count": 8,
   "metadata": {},
   "outputs": [],
   "source": [
    "targets = []\n",
    "predictions = []\n",
    "\n",
    "with torch.no_grad():\n",
    "    for images, labels in test_dataloader:\n",
    "        images = images.to(device)\n",
    "        labels = labels.to(device)\n",
    "        outputs = model(images)\n",
    "        for i, prediction in enumerate(outputs):\n",
    "            predictions.append(prediction.tolist())\n",
    "            targets.append(labels[i].tolist())"
   ]
  },
  {
   "cell_type": "code",
   "execution_count": 9,
   "metadata": {},
   "outputs": [
    {
     "name": "stdout",
     "output_type": "stream",
     "text": [
      "  Threshold    Accuracy    Precision    Recall     F1\n",
      "-----------  ----------  -----------  --------  -----\n",
      "        0.1       0.691        0.52      0.936  0.668\n",
      "        0.2       0.765        0.6       0.881  0.714\n",
      "        0.3       0.795        0.65      0.834  0.731\n",
      "        0.4       0.811        0.689     0.786  0.734\n",
      "        0.5       0.822        0.726     0.747  0.736\n",
      "        0.6       0.823        0.757     0.693  0.724\n",
      "        0.7       0.822        0.789     0.637  0.704\n",
      "        0.8       0.812        0.817     0.561  0.665\n",
      "        0.9       0.791        0.873     0.438  0.583\n"
     ]
    }
   ],
   "source": [
    "def calculateMetrics(predictions, targets):\n",
    "    thresholds = (x * 0.1 for x in range(1, 10))\n",
    "    metrics = []\n",
    "\n",
    "    for t in thresholds:\n",
    "        accuracy_metric = torchmetrics.classification.MultilabelAccuracy(num_labels = num_classes, threshold = t, average = \"micro\")\n",
    "        accuracy = \"{:.3f}\".format(accuracy_metric(predictions, targets).item())\n",
    "\n",
    "        precision_metric = torchmetrics.classification.MultilabelPrecision(num_labels = num_classes, threshold = t, average = \"micro\")\n",
    "        precision = \"{:.3f}\".format(precision_metric(predictions, targets).item())\n",
    "\n",
    "        recall_metric = torchmetrics.classification.MultilabelRecall(num_labels = num_classes, threshold = t, average = \"micro\")\n",
    "        recall = \"{:.3f}\".format(recall_metric(predictions, targets).item())\n",
    "\n",
    "        f1_metric = torchmetrics.classification.MultilabelF1Score(num_labels = num_classes, threshold = t, average = \"micro\")\n",
    "        f1 = \"{:.3f}\".format(f1_metric(predictions, targets).item())\n",
    "\n",
    "        metrics.append([t, accuracy, precision, recall, f1])\n",
    "\n",
    "    return metrics\n",
    "\n",
    "predictions_tensor = torch.tensor(predictions)\n",
    "targets_tensor = torch.tensor(targets)\n",
    "\n",
    "data = calculateMetrics(predictions_tensor, targets_tensor)\n",
    "col_names = [\"Threshold\", \"Accuracy\", \"Precision\", \"Recall\", \"F1\"]\n",
    "\n",
    "print(tabulate(data, headers=col_names))"
   ]
  },
  {
   "cell_type": "code",
   "execution_count": 9,
   "metadata": {},
   "outputs": [],
   "source": [
    "def predict(image_path, model, labels):\n",
    "  img = Image.open(image_path)\n",
    "  img_tensor = all_transforms(img).to(device)\n",
    "\n",
    "  output = model(img_tensor)\n",
    "  pred = output.data.cpu().numpy().argmax()  # Get predicted class number\n",
    " \n",
    "  print('Predicted class: {}'.format(labels[pred]))"
   ]
  }
 ],
 "metadata": {
  "kernelspec": {
   "display_name": "pytorch",
   "language": "python",
   "name": "python3"
  },
  "language_info": {
   "codemirror_mode": {
    "name": "ipython",
    "version": 3
   },
   "file_extension": ".py",
   "mimetype": "text/x-python",
   "name": "python",
   "nbconvert_exporter": "python",
   "pygments_lexer": "ipython3",
   "version": "3.10.9"
  },
  "orig_nbformat": 4,
  "vscode": {
   "interpreter": {
    "hash": "d521f14f3fb86ce8092594d2edafc35729ef61c3495703c2e6a0376d4c9a6f46"
   }
  }
 },
 "nbformat": 4,
 "nbformat_minor": 2
}
