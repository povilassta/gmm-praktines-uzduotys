{
 "cells": [
  {
   "cell_type": "code",
   "execution_count": 1,
   "metadata": {},
   "outputs": [
    {
     "data": {
      "text/plain": [
       "(['Car mechanic', 'Farmer', 'Playing cards'], 3)"
      ]
     },
     "execution_count": 1,
     "metadata": {},
     "output_type": "execute_result"
    }
   ],
   "source": [
    "import os\n",
    "\n",
    "path2data = \"ego4d_data\\\\v2\"\n",
    "sub_folder = \"full_scale\"\n",
    "sub_folder_jpg = \"jpgs\"\n",
    "path2Scens = os.path.join(path2data, sub_folder)\n",
    "\n",
    "listOfScenarios = os.listdir(path2Scens)\n",
    "listOfScenarios, len(listOfScenarios)"
   ]
  },
  {
   "cell_type": "code",
   "execution_count": 2,
   "metadata": {},
   "outputs": [
    {
     "name": "stdout",
     "output_type": "stream",
     "text": [
      "Scenario: Car mechanic\n",
      "Number of videos: 365\n",
      "--------------------------------------------------\n",
      "Scenario: Farmer\n",
      "Number of videos: 185\n",
      "--------------------------------------------------\n",
      "Scenario: Playing cards\n",
      "Number of videos: 134\n",
      "--------------------------------------------------\n"
     ]
    }
   ],
   "source": [
    "for s in listOfScenarios:\n",
    "    print(\"Scenario:\", s)\n",
    "    path2ascen = os.path.join(path2Scens, s)\n",
    "    listOfVids = os.listdir(path2ascen)\n",
    "    print(\"Number of videos:\", len(listOfVids))\n",
    "    print(\"-\"*50)"
   ]
  },
  {
   "cell_type": "code",
   "execution_count": 9,
   "metadata": {},
   "outputs": [],
   "source": [
    "import cv2\n",
    "import numpy as np\n",
    "\n",
    "def get_frames(filename, n_frames= 1):\n",
    "    frames = []\n",
    "    v_cap = cv2.VideoCapture(filename)\n",
    "    v_len = int(v_cap.get(cv2.CAP_PROP_FRAME_COUNT))\n",
    "    frame_list= np.linspace(0, v_len-1, n_frames+1, dtype=np.int32)\n",
    "    print(len(frame_list))\n",
    "    \n",
    "    for frame_number in frame_list:\n",
    "        v_cap.set(cv2.CAP_PROP_POS_FRAMES, frame_number)\n",
    "        success, frame = v_cap.read()\n",
    "        if success is False:\n",
    "            continue\n",
    "        frame = cv2.cvtColor(frame, cv2.COLOR_BGR2RGB)  \n",
    "        frames.append(frame)\n",
    "    v_cap.release()\n",
    "    return frames, v_len\n",
    "\n",
    "def store_frames(frames, path2store):\n",
    "    for ii, frame in enumerate(frames):\n",
    "        frame = cv2.cvtColor(frame, cv2.COLOR_RGB2BGR)  \n",
    "        path2img = os.path.join(path2store, \"frame\"+str(ii)+\".jpg\")\n",
    "        cv2.imwrite(path2img, frame)"
   ]
  },
  {
   "cell_type": "code",
   "execution_count": 10,
   "metadata": {},
   "outputs": [
    {
     "name": "stdout",
     "output_type": "stream",
     "text": [
      "16\n",
      "16\n"
     ]
    },
    {
     "ename": "KeyboardInterrupt",
     "evalue": "",
     "output_type": "error",
     "traceback": [
      "\u001b[1;31m---------------------------------------------------------------------------\u001b[0m",
      "\u001b[1;31mKeyboardInterrupt\u001b[0m                         Traceback (most recent call last)",
      "Cell \u001b[1;32mIn[10], line 15\u001b[0m\n\u001b[0;32m     13\u001b[0m     \u001b[39mcontinue\u001b[39;00m\n\u001b[0;32m     14\u001b[0m \u001b[39mtry\u001b[39;00m:\n\u001b[1;32m---> 15\u001b[0m     frames, vlen \u001b[39m=\u001b[39m get_frames(path2vid, n_frames)\n\u001b[0;32m     16\u001b[0m     os\u001b[39m.\u001b[39mmakedirs(path2store, exist_ok\u001b[39m=\u001b[39m\u001b[39mTrue\u001b[39;00m)\n\u001b[0;32m     17\u001b[0m     store_frames(frames, path2store)\n",
      "Cell \u001b[1;32mIn[9], line 12\u001b[0m, in \u001b[0;36mget_frames\u001b[1;34m(filename, n_frames)\u001b[0m\n\u001b[0;32m      9\u001b[0m \u001b[39mprint\u001b[39m(\u001b[39mlen\u001b[39m(frame_list))\n\u001b[0;32m     11\u001b[0m \u001b[39mfor\u001b[39;00m frame_number \u001b[39min\u001b[39;00m frame_list:\n\u001b[1;32m---> 12\u001b[0m     v_cap\u001b[39m.\u001b[39;49mset(cv2\u001b[39m.\u001b[39;49mCAP_PROP_POS_FRAMES, frame_number)\n\u001b[0;32m     13\u001b[0m     success, frame \u001b[39m=\u001b[39m v_cap\u001b[39m.\u001b[39mread()\n\u001b[0;32m     14\u001b[0m     \u001b[39mif\u001b[39;00m success \u001b[39mis\u001b[39;00m \u001b[39mFalse\u001b[39;00m:\n",
      "\u001b[1;31mKeyboardInterrupt\u001b[0m: "
     ]
    }
   ],
   "source": [
    "extension = \".mp4\"\n",
    "n_frames = 16\n",
    "problematic_videos = []\n",
    "\n",
    "for root, dirs, files in os.walk(path2Scens, topdown=False):\n",
    "    for name in files:\n",
    "        if extension not in name:\n",
    "            continue\n",
    "        path2vid = os.path.join(root, name)\n",
    "        path2store = path2vid.replace(sub_folder, sub_folder_jpg)\n",
    "        path2store = path2store.replace(extension, \"\")\n",
    "        if os.path.isdir(path2store):\n",
    "            continue\n",
    "        try:\n",
    "            frames, vlen = get_frames(path2vid, n_frames)\n",
    "            os.makedirs(path2store, exist_ok=True)\n",
    "            store_frames(frames, path2store)\n",
    "        except Exception:\n",
    "            problematic_videos.append(name)\n",
    "\n"
   ]
  },
  {
   "cell_type": "code",
   "execution_count": 44,
   "metadata": {},
   "outputs": [
    {
     "name": "stdout",
     "output_type": "stream",
     "text": [
      "17\n"
     ]
    }
   ],
   "source": [
    "print(len(problematic_videos))\n",
    "\n",
    "file = open(\"problematic_videos.txt\", \"w\", encoding=\"utf8\")\n",
    "for element in problematic_videos:\n",
    "    file.write(element + \"\\n\")\n",
    "file.close()"
   ]
  }
 ],
 "metadata": {
  "kernelspec": {
   "display_name": "pytorch",
   "language": "python",
   "name": "python3"
  },
  "language_info": {
   "codemirror_mode": {
    "name": "ipython",
    "version": 3
   },
   "file_extension": ".py",
   "mimetype": "text/x-python",
   "name": "python",
   "nbconvert_exporter": "python",
   "pygments_lexer": "ipython3",
   "version": "3.10.9"
  },
  "orig_nbformat": 4
 },
 "nbformat": 4,
 "nbformat_minor": 2
}
