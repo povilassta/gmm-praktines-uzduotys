{
 "cells": [
  {
   "cell_type": "code",
   "execution_count": 1,
   "metadata": {},
   "outputs": [
    {
     "name": "stderr",
     "output_type": "stream",
     "text": [
      "c:\\Users\\povil\\miniconda3\\envs\\pytorch\\lib\\site-packages\\tqdm\\auto.py:22: TqdmWarning: IProgress not found. Please update jupyter and ipywidgets. See https://ipywidgets.readthedocs.io/en/stable/user_install.html\n",
      "  from .autonotebook import tqdm as notebook_tqdm\n"
     ]
    },
    {
     "data": {
      "text/plain": [
       "{'Car mechanic': 0, 'Farmer': 1, 'Playing cards': 2}"
      ]
     },
     "execution_count": 1,
     "metadata": {},
     "output_type": "execute_result"
    }
   ],
   "source": [
    "import os\n",
    "import myutils\n",
    "\n",
    "path2data = \"./ego4d_data/v2\"\n",
    "sub_folder_jpg = \"jpgs\"\n",
    "path2jpgs = os.path.join(path2data, sub_folder_jpg)\n",
    "\n",
    "all_videos, all_labels, categories = myutils.get_vids(path2jpgs)\n",
    "labels_dict = {c: i for i, c in enumerate(categories)}\n",
    "labels_dict"
   ]
  },
  {
   "cell_type": "code",
   "execution_count": 2,
   "metadata": {},
   "outputs": [],
   "source": [
    "from sklearn.model_selection import StratifiedShuffleSplit\n",
    "\n",
    "num_classes = len(categories)\n",
    "unique_ids = [id_ for id_, label in zip(all_videos, all_labels) if labels_dict[label] < num_classes]\n",
    "unique_labels = [label for id_, label in zip(all_videos, all_labels) if labels_dict[label] < num_classes]\n",
    "\n",
    "sss = StratifiedShuffleSplit(n_splits=2, test_size=0.2, random_state=0)\n",
    "train_idx, test_idx = next(sss.split(unique_ids, unique_labels))\n",
    "\n",
    "train_ids = [unique_ids[idx] for idx in train_idx]\n",
    "train_labels = [unique_labels[idx] for idx in train_idx]\n",
    "\n",
    "test_ids = [unique_ids[idx] for idx in test_idx]\n",
    "test_labels = [unique_labels[ind] for ind in test_idx]"
   ]
  },
  {
   "cell_type": "code",
   "execution_count": 3,
   "metadata": {},
   "outputs": [],
   "source": [
    "from torch.utils.data import Dataset, DataLoader\n",
    "import glob\n",
    "from PIL import Image\n",
    "import torch\n",
    "import numpy as np\n",
    "\n",
    "class VideoDataset(Dataset):\n",
    "    def __init__(self, ids, labels, transform, num_frames = 16):\n",
    "        self.transform = transform\n",
    "        self.ids = ids\n",
    "        self.labels = labels\n",
    "        self.num_frames = num_frames\n",
    "    \n",
    "    def __len__(self):\n",
    "        return len(self.ids)\n",
    "    \n",
    "    def __getitem__(self, idx):\n",
    "        path2imgs = glob.glob(self.ids[idx]+\"/*.jpg\")\n",
    "        path2imgs = path2imgs[:self.num_frames]\n",
    "        label = labels_dict[self.labels[idx]]\n",
    "        frames = []\n",
    "        for p2i in path2imgs:\n",
    "            frame = Image.open(p2i)\n",
    "            frame = self.transform(frame)\n",
    "            frames.append(frame)\n",
    "            \n",
    "        if len(frames) > 0:\n",
    "            frames = torch.stack(frames)\n",
    "\n",
    "        return (frames, label)"
   ]
  },
  {
   "cell_type": "code",
   "execution_count": 4,
   "metadata": {},
   "outputs": [],
   "source": [
    "import torchvision.transforms as transforms\n",
    "# ResNet\n",
    "h, w = 112, 112\n",
    "\n",
    "# Video MViT\n",
    "# h, w = 224, 224\n",
    "\n",
    "num_frames = 16\n",
    "\n",
    "train_transformer = transforms.Compose([\n",
    "    transforms.Resize((h,w)),\n",
    "    transforms.RandomHorizontalFlip(p=0.5),  \n",
    "    transforms.RandomAffine(degrees=0, translate=(0.1,0.1)),    \n",
    "    transforms.ToTensor(),\n",
    "    ])\n",
    "train_ds = VideoDataset(ids = train_ids, labels = train_labels, transform = train_transformer, num_frames = num_frames)\n",
    "\n",
    "test_transformer = transforms.Compose([\n",
    "            transforms.Resize((h,w)),\n",
    "            transforms.ToTensor(),\n",
    "            ]) \n",
    "test_ds = VideoDataset(ids = test_ids, labels = test_labels, transform = test_transformer, num_frames = num_frames)"
   ]
  },
  {
   "cell_type": "code",
   "execution_count": 5,
   "metadata": {},
   "outputs": [],
   "source": [
    "batch_size = 3\n",
    "\n",
    "train_dl = DataLoader(train_ds, batch_size = batch_size, shuffle=True)\n",
    "test_dl = DataLoader(test_ds, batch_size = 2*batch_size, shuffle=False)"
   ]
  },
  {
   "cell_type": "code",
   "execution_count": 8,
   "metadata": {},
   "outputs": [],
   "source": [
    "from torchvision import models\n",
    "from torch import nn\n",
    "\n",
    "# ResNet\n",
    "# model = models.video.r3d_18(weights=models.video.R3D_18_Weights.DEFAULT)\n",
    "# num_features = model.fc.in_features\n",
    "# model.fc = nn.Linear(num_features, num_classes)\n",
    "\n",
    "# ResNet 2+1\n",
    "# model = models.video.r2plus1d_18(weights=models.video.R2Plus1D_18_Weights.DEFAULT)\n",
    "# num_features = model.fc.in_features\n",
    "# model.fc = nn.Linear(num_features, num_classes)\n",
    "\n",
    "# ResNet MC\n",
    "model = models.video.mc3_18(weights=models.video.MC3_18_Weights.DEFAULT)\n",
    "num_features = model.fc.in_features\n",
    "model.fc = nn.Linear(num_features, num_classes)"
   ]
  },
  {
   "cell_type": "code",
   "execution_count": 9,
   "metadata": {},
   "outputs": [
    {
     "data": {
      "text/plain": [
       "VideoResNet(\n",
       "  (stem): BasicStem(\n",
       "    (0): Conv3d(3, 64, kernel_size=(3, 7, 7), stride=(1, 2, 2), padding=(1, 3, 3), bias=False)\n",
       "    (1): BatchNorm3d(64, eps=1e-05, momentum=0.1, affine=True, track_running_stats=True)\n",
       "    (2): ReLU(inplace=True)\n",
       "  )\n",
       "  (layer1): Sequential(\n",
       "    (0): BasicBlock(\n",
       "      (conv1): Sequential(\n",
       "        (0): Conv3DSimple(64, 64, kernel_size=(3, 3, 3), stride=(1, 1, 1), padding=(1, 1, 1), bias=False)\n",
       "        (1): BatchNorm3d(64, eps=1e-05, momentum=0.1, affine=True, track_running_stats=True)\n",
       "        (2): ReLU(inplace=True)\n",
       "      )\n",
       "      (conv2): Sequential(\n",
       "        (0): Conv3DSimple(64, 64, kernel_size=(3, 3, 3), stride=(1, 1, 1), padding=(1, 1, 1), bias=False)\n",
       "        (1): BatchNorm3d(64, eps=1e-05, momentum=0.1, affine=True, track_running_stats=True)\n",
       "      )\n",
       "      (relu): ReLU(inplace=True)\n",
       "    )\n",
       "    (1): BasicBlock(\n",
       "      (conv1): Sequential(\n",
       "        (0): Conv3DSimple(64, 64, kernel_size=(3, 3, 3), stride=(1, 1, 1), padding=(1, 1, 1), bias=False)\n",
       "        (1): BatchNorm3d(64, eps=1e-05, momentum=0.1, affine=True, track_running_stats=True)\n",
       "        (2): ReLU(inplace=True)\n",
       "      )\n",
       "      (conv2): Sequential(\n",
       "        (0): Conv3DSimple(64, 64, kernel_size=(3, 3, 3), stride=(1, 1, 1), padding=(1, 1, 1), bias=False)\n",
       "        (1): BatchNorm3d(64, eps=1e-05, momentum=0.1, affine=True, track_running_stats=True)\n",
       "      )\n",
       "      (relu): ReLU(inplace=True)\n",
       "    )\n",
       "  )\n",
       "  (layer2): Sequential(\n",
       "    (0): BasicBlock(\n",
       "      (conv1): Sequential(\n",
       "        (0): Conv3DNoTemporal(64, 128, kernel_size=(1, 3, 3), stride=(1, 2, 2), padding=(0, 1, 1), bias=False)\n",
       "        (1): BatchNorm3d(128, eps=1e-05, momentum=0.1, affine=True, track_running_stats=True)\n",
       "        (2): ReLU(inplace=True)\n",
       "      )\n",
       "      (conv2): Sequential(\n",
       "        (0): Conv3DNoTemporal(128, 128, kernel_size=(1, 3, 3), stride=(1, 1, 1), padding=(0, 1, 1), bias=False)\n",
       "        (1): BatchNorm3d(128, eps=1e-05, momentum=0.1, affine=True, track_running_stats=True)\n",
       "      )\n",
       "      (relu): ReLU(inplace=True)\n",
       "      (downsample): Sequential(\n",
       "        (0): Conv3d(64, 128, kernel_size=(1, 1, 1), stride=(1, 2, 2), bias=False)\n",
       "        (1): BatchNorm3d(128, eps=1e-05, momentum=0.1, affine=True, track_running_stats=True)\n",
       "      )\n",
       "    )\n",
       "    (1): BasicBlock(\n",
       "      (conv1): Sequential(\n",
       "        (0): Conv3DNoTemporal(128, 128, kernel_size=(1, 3, 3), stride=(1, 1, 1), padding=(0, 1, 1), bias=False)\n",
       "        (1): BatchNorm3d(128, eps=1e-05, momentum=0.1, affine=True, track_running_stats=True)\n",
       "        (2): ReLU(inplace=True)\n",
       "      )\n",
       "      (conv2): Sequential(\n",
       "        (0): Conv3DNoTemporal(128, 128, kernel_size=(1, 3, 3), stride=(1, 1, 1), padding=(0, 1, 1), bias=False)\n",
       "        (1): BatchNorm3d(128, eps=1e-05, momentum=0.1, affine=True, track_running_stats=True)\n",
       "      )\n",
       "      (relu): ReLU(inplace=True)\n",
       "    )\n",
       "  )\n",
       "  (layer3): Sequential(\n",
       "    (0): BasicBlock(\n",
       "      (conv1): Sequential(\n",
       "        (0): Conv3DNoTemporal(128, 256, kernel_size=(1, 3, 3), stride=(1, 2, 2), padding=(0, 1, 1), bias=False)\n",
       "        (1): BatchNorm3d(256, eps=1e-05, momentum=0.1, affine=True, track_running_stats=True)\n",
       "        (2): ReLU(inplace=True)\n",
       "      )\n",
       "      (conv2): Sequential(\n",
       "        (0): Conv3DNoTemporal(256, 256, kernel_size=(1, 3, 3), stride=(1, 1, 1), padding=(0, 1, 1), bias=False)\n",
       "        (1): BatchNorm3d(256, eps=1e-05, momentum=0.1, affine=True, track_running_stats=True)\n",
       "      )\n",
       "      (relu): ReLU(inplace=True)\n",
       "      (downsample): Sequential(\n",
       "        (0): Conv3d(128, 256, kernel_size=(1, 1, 1), stride=(1, 2, 2), bias=False)\n",
       "        (1): BatchNorm3d(256, eps=1e-05, momentum=0.1, affine=True, track_running_stats=True)\n",
       "      )\n",
       "    )\n",
       "    (1): BasicBlock(\n",
       "      (conv1): Sequential(\n",
       "        (0): Conv3DNoTemporal(256, 256, kernel_size=(1, 3, 3), stride=(1, 1, 1), padding=(0, 1, 1), bias=False)\n",
       "        (1): BatchNorm3d(256, eps=1e-05, momentum=0.1, affine=True, track_running_stats=True)\n",
       "        (2): ReLU(inplace=True)\n",
       "      )\n",
       "      (conv2): Sequential(\n",
       "        (0): Conv3DNoTemporal(256, 256, kernel_size=(1, 3, 3), stride=(1, 1, 1), padding=(0, 1, 1), bias=False)\n",
       "        (1): BatchNorm3d(256, eps=1e-05, momentum=0.1, affine=True, track_running_stats=True)\n",
       "      )\n",
       "      (relu): ReLU(inplace=True)\n",
       "    )\n",
       "  )\n",
       "  (layer4): Sequential(\n",
       "    (0): BasicBlock(\n",
       "      (conv1): Sequential(\n",
       "        (0): Conv3DNoTemporal(256, 512, kernel_size=(1, 3, 3), stride=(1, 2, 2), padding=(0, 1, 1), bias=False)\n",
       "        (1): BatchNorm3d(512, eps=1e-05, momentum=0.1, affine=True, track_running_stats=True)\n",
       "        (2): ReLU(inplace=True)\n",
       "      )\n",
       "      (conv2): Sequential(\n",
       "        (0): Conv3DNoTemporal(512, 512, kernel_size=(1, 3, 3), stride=(1, 1, 1), padding=(0, 1, 1), bias=False)\n",
       "        (1): BatchNorm3d(512, eps=1e-05, momentum=0.1, affine=True, track_running_stats=True)\n",
       "      )\n",
       "      (relu): ReLU(inplace=True)\n",
       "      (downsample): Sequential(\n",
       "        (0): Conv3d(256, 512, kernel_size=(1, 1, 1), stride=(1, 2, 2), bias=False)\n",
       "        (1): BatchNorm3d(512, eps=1e-05, momentum=0.1, affine=True, track_running_stats=True)\n",
       "      )\n",
       "    )\n",
       "    (1): BasicBlock(\n",
       "      (conv1): Sequential(\n",
       "        (0): Conv3DNoTemporal(512, 512, kernel_size=(1, 3, 3), stride=(1, 1, 1), padding=(0, 1, 1), bias=False)\n",
       "        (1): BatchNorm3d(512, eps=1e-05, momentum=0.1, affine=True, track_running_stats=True)\n",
       "        (2): ReLU(inplace=True)\n",
       "      )\n",
       "      (conv2): Sequential(\n",
       "        (0): Conv3DNoTemporal(512, 512, kernel_size=(1, 3, 3), stride=(1, 1, 1), padding=(0, 1, 1), bias=False)\n",
       "        (1): BatchNorm3d(512, eps=1e-05, momentum=0.1, affine=True, track_running_stats=True)\n",
       "      )\n",
       "      (relu): ReLU(inplace=True)\n",
       "    )\n",
       "  )\n",
       "  (avgpool): AdaptiveAvgPool3d(output_size=(1, 1, 1))\n",
       "  (fc): Linear(in_features=512, out_features=3, bias=True)\n",
       ")"
      ]
     },
     "execution_count": 9,
     "metadata": {},
     "output_type": "execute_result"
    }
   ],
   "source": [
    "model"
   ]
  },
  {
   "cell_type": "code",
   "execution_count": 10,
   "metadata": {},
   "outputs": [],
   "source": [
    "device = torch.device(\"cuda:0\" if torch.cuda.is_available() else \"cpu\")\n",
    "model = model.to(device)"
   ]
  },
  {
   "cell_type": "code",
   "execution_count": 11,
   "metadata": {},
   "outputs": [
    {
     "name": "stdout",
     "output_type": "stream",
     "text": [
      "Copied best model weights!\n",
      "Epoch 1/10\n",
      "train loss: 0.857969, dev loss: 9.637255, accuracy: 22.56\n",
      "----------\n",
      "Copied best model weights!\n",
      "Epoch 2/10\n",
      "train loss: 0.792649, dev loss: 1.268934, accuracy: 60.90\n",
      "----------\n",
      "Copied best model weights!\n",
      "Epoch 3/10\n",
      "train loss: 0.839965, dev loss: 0.569402, accuracy: 81.95\n",
      "----------\n",
      "Epoch 4/10\n",
      "train loss: 0.697416, dev loss: 0.620352, accuracy: 80.45\n",
      "----------\n",
      "Copied best model weights!\n",
      "Epoch 5/10\n",
      "train loss: 0.686102, dev loss: 0.372641, accuracy: 85.71\n",
      "----------\n",
      "Copied best model weights!\n",
      "Epoch 6/10\n",
      "train loss: 0.588839, dev loss: 0.369913, accuracy: 90.23\n",
      "----------\n",
      "Epoch 7/10\n",
      "train loss: 0.586311, dev loss: 0.419937, accuracy: 87.22\n",
      "----------\n",
      "Epoch 8/10\n",
      "train loss: 0.531878, dev loss: 0.614347, accuracy: 83.46\n",
      "----------\n",
      "Epoch 9/10\n",
      "train loss: 0.558029, dev loss: 0.402854, accuracy: 88.72\n",
      "----------\n",
      "Epoch 10/10\n",
      "train loss: 0.517024, dev loss: 12.596494, accuracy: 32.33\n",
      "----------\n"
     ]
    }
   ],
   "source": [
    "from torch import optim\n",
    "\n",
    "loss_func = nn.CrossEntropyLoss(reduction=\"sum\")\n",
    "opt = optim.Adam(model.parameters(), lr=0.001)\n",
    "lr_scheduler = optim.lr_scheduler.ReduceLROnPlateau(opt, factor=0.5, patience=5)\n",
    "os.makedirs(\"./models\", exist_ok=True)\n",
    "\n",
    "params_train={\n",
    "    \"num_epochs\": 10,\n",
    "    \"optimizer\": opt,\n",
    "    \"loss_func\": loss_func,\n",
    "    \"train_dl\": train_dl,\n",
    "    \"val_dl\": test_dl,\n",
    "    # \"path2weights\": \"./models/weights_3dcnn.pt\",\n",
    "    \"path2weights\": \"./models/weights_s3d.pt\",\n",
    "    \"lr_scheduler\": lr_scheduler\n",
    "    }\n",
    "\n",
    "model,loss_hist,metric_hist = myutils.train_val(model,params_train)"
   ]
  },
  {
   "cell_type": "code",
   "execution_count": 14,
   "metadata": {},
   "outputs": [
    {
     "data": {
      "text/plain": [
       "{'train': [0.8579692145609586,\n",
       "  0.7926490014443515,\n",
       "  0.8399645098521884,\n",
       "  0.6974159417403845,\n",
       "  0.6861021691852595,\n",
       "  0.5888393690104539,\n",
       "  0.5863110383379706,\n",
       "  0.5318776759724159,\n",
       "  0.5580285780707097,\n",
       "  0.5170241733504329],\n",
       " 'val': [9.637254914920076,\n",
       "  1.2689341790694044,\n",
       "  0.5694019993893186,\n",
       "  0.6203517703185404,\n",
       "  0.37264098350266767,\n",
       "  0.369912610830445,\n",
       "  0.41993666140194563,\n",
       "  0.6143474847750556,\n",
       "  0.4028543044525878,\n",
       "  12.596494222942152]}"
      ]
     },
     "execution_count": 14,
     "metadata": {},
     "output_type": "execute_result"
    }
   ],
   "source": [
    "loss_hist"
   ]
  },
  {
   "cell_type": "code",
   "execution_count": 10,
   "metadata": {},
   "outputs": [
    {
     "data": {
      "image/png": "[encoded data removed]",
      "text/plain": [
       "<Figure size 640x480 with 1 Axes>"
      ]
     },
     "metadata": {},
     "output_type": "display_data"
    },
    {
     "data": {
      "image/png": "[encoded data removed]",
      "text/plain": [
       "<Figure size 640x480 with 1 Axes>"
      ]
     },
     "metadata": {},
     "output_type": "display_data"
    }
   ],
   "source": [
    "myutils.plot_loss(loss_hist, metric_hist)"
   ]
  },
  {
   "cell_type": "code",
   "execution_count": 11,
   "metadata": {},
   "outputs": [
    {
     "data": {
      "text/plain": [
       "{'train': [0.7212806026365348,\n",
       "  0.6986817325800376,\n",
       "  0.7966101694915254,\n",
       "  0.8116760828625236,\n",
       "  0.8813559322033898,\n",
       "  0.8757062146892656,\n",
       "  0.8757062146892656,\n",
       "  0.9096045197740112,\n",
       "  0.8549905838041432,\n",
       "  0.9001883239171374],\n",
       " 'val': [0.9323308270676691,\n",
       "  0.8646616541353384,\n",
       "  0.8345864661654135,\n",
       "  0.849624060150376,\n",
       "  0.40601503759398494,\n",
       "  0.9022556390977443,\n",
       "  0.9699248120300752,\n",
       "  0.9849624060150376,\n",
       "  0.8345864661654135,\n",
       "  0.9473684210526315]}"
      ]
     },
     "execution_count": 11,
     "metadata": {},
     "output_type": "execute_result"
    }
   ],
   "source": [
    "metric_hist"
   ]
  }
 ],
 "metadata": {
  "kernelspec": {
   "display_name": "pytorch",
   "language": "python",
   "name": "python3"
  },
  "language_info": {
   "codemirror_mode": {
    "name": "ipython",
    "version": 3
   },
   "file_extension": ".py",
   "mimetype": "text/x-python",
   "name": "python",
   "nbconvert_exporter": "python",
   "pygments_lexer": "ipython3",
   "version": "3.10.9"
  },
  "orig_nbformat": 4
 },
 "nbformat": 4,
 "nbformat_minor": 2
}
