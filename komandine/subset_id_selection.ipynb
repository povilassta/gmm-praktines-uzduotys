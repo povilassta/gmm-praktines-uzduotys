{
 "cells": [
  {
   "attachments": {},
   "cell_type": "markdown",
   "metadata": {},
   "source": [
    "Get our selected subsets video ids\n",
    "Selected subset: Farmer, Car mechanic, Playing cards"
   ]
  },
  {
   "cell_type": "code",
   "execution_count": 2,
   "metadata": {},
   "outputs": [
    {
     "name": "stdout",
     "output_type": "stream",
     "text": [
      "684\n"
     ]
    }
   ],
   "source": [
    "import json\n",
    "\n",
    "with open(\"ego4d_data/ego4d.json\") as f:\n",
    "    metadata = json.load(f)\n",
    "\n",
    "# Car mechanic, Farmer, Playing cards \n",
    "video_uids = [d[\"video_uid\"] for d in metadata[\"videos\"] if d[\"scenarios\"] == [\"Farmer\"] or d[\"scenarios\"] == [\"Car mechanic\"] or d[\"scenarios\"] == [\"Playing cards\"]]\n",
    "\n",
    "print(len(video_uids))"
   ]
  },
  {
   "attachments": {},
   "cell_type": "markdown",
   "metadata": {},
   "source": [
    "Enter the ids into a file. The resulting file is needed for downloading videos."
   ]
  },
  {
   "cell_type": "code",
   "execution_count": 9,
   "metadata": {},
   "outputs": [],
   "source": [
    "file = open(\"ego4d_subset_ids.txt\", \"w\", encoding=\"utf8\")\n",
    "for element in video_uids:\n",
    "    file.write(element + \"\\n\")\n",
    "file.close()"
   ]
  },
  {
   "attachments": {},
   "cell_type": "markdown",
   "metadata": {},
   "source": [
    "Filter the metadata to include only our selected videos"
   ]
  },
  {
   "cell_type": "code",
   "execution_count": 19,
   "metadata": {},
   "outputs": [],
   "source": [
    "def filterFunc(x):\n",
    "    if x[\"video_uid\"] in video_uids:\n",
    "        return True\n",
    "    else:\n",
    "        return False\n",
    "    \n",
    "\n",
    "filtered_metadata = filter(filterFunc, metadata[\"videos\"])"
   ]
  },
  {
   "attachments": {},
   "cell_type": "markdown",
   "metadata": {},
   "source": [
    "Move videos into separate directories depending on their scenario class"
   ]
  },
  {
   "cell_type": "code",
   "execution_count": 20,
   "metadata": {},
   "outputs": [],
   "source": [
    "import os\n",
    "\n",
    "for x in filtered_metadata:\n",
    "    os.rename(\"ego4d_data/v2/full_scale/{}.mp4\".format(x[\"video_uid\"]), \"ego4d_data/v2/full_scale/{}/{}.mp4\".format(x[\"scenarios\"][0], x[\"video_uid\"]))"
   ]
  }
 ],
 "metadata": {
  "kernelspec": {
   "display_name": "pytorch",
   "language": "python",
   "name": "python3"
  },
  "language_info": {
   "codemirror_mode": {
    "name": "ipython",
    "version": 3
   },
   "file_extension": ".py",
   "mimetype": "text/x-python",
   "name": "python",
   "nbconvert_exporter": "python",
   "pygments_lexer": "ipython3",
   "version": "3.10.9"
  },
  "orig_nbformat": 4
 },
 "nbformat": 4,
 "nbformat_minor": 2
}
